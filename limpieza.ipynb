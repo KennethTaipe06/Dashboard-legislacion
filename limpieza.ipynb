{
 "cells": [
  {
   "cell_type": "code",
   "execution_count": 2,
   "id": "1e2cfe39",
   "metadata": {},
   "outputs": [],
   "source": [
    "import pandas as pd\n",
    "import numpy as np"
   ]
  },
  {
   "cell_type": "code",
   "execution_count": null,
   "id": "84de7ea9",
   "metadata": {},
   "outputs": [
    {
     "name": "stdout",
     "output_type": "stream",
     "text": [
      "fecha,valor,max_abs,min_abs,direccion,completo_mediciones,completo_umbral\n",
      "2020/01/01,2.353500,3.800000,0.700000,304.714560,100.0,100.0\n",
      "2020/01/02,0.716667,1.000000,0.200000,348.403099,100.0,100.0\n",
      "2020/01/03,1.740000,3.800000,0.300000,214.809164,96.2,95.8\n",
      "2020/01/04,2.321918,3.600000,0.300000,306.006971,99.7,100.0\n"
     ]
    }
   ],
   "source": [
    "\n",
    "with open(r'datasets\\M5025-La_Virgen_Papallacta_Velocidad_de_viento-Diario.csv', 'r', encoding='utf-8') as file:\n",
    "    for i in range(5):\n",
    "        print(file.readline().strip())\n",
    "        \n",
    "\n",
    "df = pd.read_csv(r'datasets\\M5025-La_Virgen_Papallacta_Velocidad_de_viento-Diario.csv', encoding='utf-8')\n",
    "df.dropna(inplace=True)\n",
    "df\n",
    "df.to_csv(r'datasets_limpios\\M5025-La_Virgen_Papallacta_Velocidad_de_viento-Diario.csv', index=False, encoding='utf-8')"
   ]
  },
  {
   "cell_type": "code",
   "execution_count": null,
   "id": "43cf6f25",
   "metadata": {},
   "outputs": [],
   "source": []
  }
 ],
 "metadata": {
  "kernelspec": {
   "display_name": "Python 3",
   "language": "python",
   "name": "python3"
  },
  "language_info": {
   "codemirror_mode": {
    "name": "ipython",
    "version": 3
   },
   "file_extension": ".py",
   "mimetype": "text/x-python",
   "name": "python",
   "nbconvert_exporter": "python",
   "pygments_lexer": "ipython3",
   "version": "3.13.3"
  }
 },
 "nbformat": 4,
 "nbformat_minor": 5
}
